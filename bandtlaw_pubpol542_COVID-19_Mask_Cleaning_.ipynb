{
 "cells": [
  {
   "cell_type": "code",
   "execution_count": 3,
   "metadata": {},
   "outputs": [],
   "source": [
    "import pandas"
   ]
  },
  {
   "cell_type": "code",
   "execution_count": 4,
   "metadata": {},
   "outputs": [],
   "source": [
    "import csv"
   ]
  },
  {
   "cell_type": "markdown",
   "metadata": {},
   "source": [
    "Read in the mask data from the NYT github (note: this data is at the county level for the United States). "
   ]
  },
  {
   "cell_type": "code",
   "execution_count": 5,
   "metadata": {},
   "outputs": [],
   "source": [
    "mask = pandas.read_csv('https://raw.githubusercontent.com/nytimes/covid-19-data/master/mask-use/mask-use-by-county.csv')\n",
    "\n",
    "mask #view data\n",
    "\n"
   ]
  },
  {
   "cell_type": "code",
   "execution_count": null,
   "metadata": {},
   "outputs": [],
   "source": [
    "Write the raw daw data to disc to upload to the github folder "
   ]
  },
  {
   "cell_type": "code",
   "execution_count": null,
   "metadata": {},
   "outputs": [],
   "source": [
    "mask.to_csv('raw_mask_data.csv')"
   ]
  },
  {
   "cell_type": "markdown",
   "metadata": {},
   "source": [
    "We are interested in creating a composite 'mask score' for each county. \n",
    "\n",
    "Below is information on the raw mask data and how to create a composite mask score for each county. \n",
    "\n",
    "COUNTYFP: The county FIPS code.\n",
    "NEVER: The estimated share of people in this county who would say never in response to the question “How often do you wear a mask in public when you expect to be within six feet of another person?”\n",
    "RARELY: The estimated share of people in this county who would say rarely\n",
    "SOMETIMES: The estimated share of people in this county who would say sometimes\n",
    "FREQUENTLY: The estimated share of people in this county who would say frequently\n",
    "ALWAYS: The estimated share of people in this county who would say always\n",
    "\n",
    "\n",
    "NOTE: Calculate a Mask Score for each county = (%NEVER*0) + (%RARELY*1) + (%SOMETIMES*2) +\n",
    "(%FREQUENTLY*3) + (%ALWAYS*4)\n",
    "\n",
    "Source: (Maloney, 2020): https://www.medrxiv.org/content/10.1101/2020.10.03.20206326v2.full.pdf\n",
    "\n"
   ]
  },
  {
   "cell_type": "markdown",
   "metadata": {},
   "source": [
    "Importantly, the mask data only has county fip codes, not the names of each county. My group will be merging our data at the county level using the name of the county, so I need to identify the corresponding county names for the fip codes. To do this, I need to read in a dataset that has the fip codes and the county names:\n",
    "\n",
    "County Fip codes + name if county : https://github.com/kjhealy/fips-codes/blob/master/state_and_county_fips_master.csv\n",
    "\n",
    "Area Type: county Geoid structure = state + county\n"
   ]
  },
  {
   "cell_type": "markdown",
   "metadata": {},
   "source": [
    "We are interested in county level data in Washington State, California, and Oregon. I need to:\n",
    "\n",
    "(a) Identify the corresponding county names of the County FIP codes (census data) to append to the the mask data\n",
    "(b) Filter the data to only include counties in WA,CA, and OR\n",
    "(c) Create a mask score for each county\n",
    "(d) Change variable names to prepare the data to be merged with my other group members\n"
   ]
  },
  {
   "cell_type": "markdown",
   "metadata": {},
   "source": [
    "County Fip codes:\n",
    "    \n",
    "Area Type: county \n",
    "Geoid structure: state + county\n",
    "\n",
    "https://github.com/kjhealy/fips-codes/blob/master/state_and_county_fips_master.csv\n"
   ]
  },
  {
   "cell_type": "code",
   "execution_count": 20,
   "metadata": {},
   "outputs": [
    {
     "data": {
      "text/html": [
       "<div>\n",
       "<style scoped>\n",
       "    .dataframe tbody tr th:only-of-type {\n",
       "        vertical-align: middle;\n",
       "    }\n",
       "\n",
       "    .dataframe tbody tr th {\n",
       "        vertical-align: top;\n",
       "    }\n",
       "\n",
       "    .dataframe thead th {\n",
       "        text-align: right;\n",
       "    }\n",
       "</style>\n",
       "<table border=\"1\" class=\"dataframe\">\n",
       "  <thead>\n",
       "    <tr style=\"text-align: right;\">\n",
       "      <th></th>\n",
       "      <th>fips</th>\n",
       "      <th>name</th>\n",
       "      <th>state</th>\n",
       "    </tr>\n",
       "  </thead>\n",
       "  <tbody>\n",
       "    <tr>\n",
       "      <th>0</th>\n",
       "      <td>0</td>\n",
       "      <td>UNITED STATES</td>\n",
       "      <td>NaN</td>\n",
       "    </tr>\n",
       "    <tr>\n",
       "      <th>1</th>\n",
       "      <td>1000</td>\n",
       "      <td>ALABAMA</td>\n",
       "      <td>NaN</td>\n",
       "    </tr>\n",
       "    <tr>\n",
       "      <th>2</th>\n",
       "      <td>1001</td>\n",
       "      <td>Autauga County</td>\n",
       "      <td>AL</td>\n",
       "    </tr>\n",
       "    <tr>\n",
       "      <th>3</th>\n",
       "      <td>1003</td>\n",
       "      <td>Baldwin County</td>\n",
       "      <td>AL</td>\n",
       "    </tr>\n",
       "    <tr>\n",
       "      <th>4</th>\n",
       "      <td>1005</td>\n",
       "      <td>Barbour County</td>\n",
       "      <td>AL</td>\n",
       "    </tr>\n",
       "    <tr>\n",
       "      <th>...</th>\n",
       "      <td>...</td>\n",
       "      <td>...</td>\n",
       "      <td>...</td>\n",
       "    </tr>\n",
       "    <tr>\n",
       "      <th>3190</th>\n",
       "      <td>56037</td>\n",
       "      <td>Sweetwater County</td>\n",
       "      <td>WY</td>\n",
       "    </tr>\n",
       "    <tr>\n",
       "      <th>3191</th>\n",
       "      <td>56039</td>\n",
       "      <td>Teton County</td>\n",
       "      <td>WY</td>\n",
       "    </tr>\n",
       "    <tr>\n",
       "      <th>3192</th>\n",
       "      <td>56041</td>\n",
       "      <td>Uinta County</td>\n",
       "      <td>WY</td>\n",
       "    </tr>\n",
       "    <tr>\n",
       "      <th>3193</th>\n",
       "      <td>56043</td>\n",
       "      <td>Washakie County</td>\n",
       "      <td>WY</td>\n",
       "    </tr>\n",
       "    <tr>\n",
       "      <th>3194</th>\n",
       "      <td>56045</td>\n",
       "      <td>Weston County</td>\n",
       "      <td>WY</td>\n",
       "    </tr>\n",
       "  </tbody>\n",
       "</table>\n",
       "<p>3195 rows × 3 columns</p>\n",
       "</div>"
      ],
      "text/plain": [
       "       fips               name state\n",
       "0         0      UNITED STATES   NaN\n",
       "1      1000            ALABAMA   NaN\n",
       "2      1001     Autauga County    AL\n",
       "3      1003     Baldwin County    AL\n",
       "4      1005     Barbour County    AL\n",
       "...     ...                ...   ...\n",
       "3190  56037  Sweetwater County    WY\n",
       "3191  56039       Teton County    WY\n",
       "3192  56041       Uinta County    WY\n",
       "3193  56043    Washakie County    WY\n",
       "3194  56045      Weston County    WY\n",
       "\n",
       "[3195 rows x 3 columns]"
      ]
     },
     "execution_count": 20,
     "metadata": {},
     "output_type": "execute_result"
    }
   ],
   "source": [
    "fip = pandas.read_csv('https://raw.githubusercontent.com/kjhealy/fips-codes/master/state_and_county_fips_master.csv')\n",
    "\n",
    "fip #view data \n"
   ]
  },
  {
   "cell_type": "markdown",
   "metadata": {},
   "source": [
    "write the raw fip data to disc to upload to the github folder"
   ]
  },
  {
   "cell_type": "code",
   "execution_count": 21,
   "metadata": {},
   "outputs": [],
   "source": [
    "fip.to_csv('fip_codes.csv')"
   ]
  },
  {
   "cell_type": "markdown",
   "metadata": {},
   "source": [
    "Next, we need to append the 'fip'data to the 'mask' data by 'fip code' so that we have the names that correspond with each county name in our mask data. \n",
    "\n",
    "To merge the data by fip code, the variable names for the fip codes in the 'fip' and 'mask' data need to match up. \n",
    "\n",
    "Currently, this is the variable name for the fip codes in each dataset: \n",
    "\n",
    "mask data:'COUNTYFP'\n",
    "fip:'fips'\n"
   ]
  },
  {
   "cell_type": "code",
   "execution_count": null,
   "metadata": {},
   "outputs": [],
   "source": [
    "mask= mask.rename(columns=str.lower) #step1: change column names in mask data to lowercase#"
   ]
  },
  {
   "cell_type": "code",
   "execution_count": 22,
   "metadata": {},
   "outputs": [],
   "source": [
    "fip.columns = ['countyfp', 'name','state'] #step 2: in the fips data, change the 'fips' column to 'countyfp' "
   ]
  },
  {
   "cell_type": "code",
   "execution_count": null,
   "metadata": {},
   "outputs": [],
   "source": [
    "fip.columns #view column to make sure names have been changed "
   ]
  },
  {
   "cell_type": "markdown",
   "metadata": {},
   "source": [
    "Now that the variable names match we can use pandas 'merge' function to merge fip and mask by 'countyfp'"
   ]
  },
  {
   "cell_type": "code",
   "execution_count": null,
   "metadata": {},
   "outputs": [],
   "source": [
    "mask_data=mask.merge(fip, how='left', on='countyfp')\n",
    "    #how = merge format (left)\n",
    "    #on = column or index to merge on ('countyfp')\n",
    "\n",
    "mask_data #view merged data "
   ]
  },
  {
   "cell_type": "markdown",
   "metadata": {},
   "source": [
    "'mask_data' includes data from the entire US. Our group is only including counties from Washington, California, and Oregon, so we need to filter the data so the 'state' variable only includes 'states': WA, CA, OR"
   ]
  },
  {
   "cell_type": "code",
   "execution_count": 25,
   "metadata": {},
   "outputs": [
    {
     "data": {
      "text/plain": [
       "countyfp      0\n",
       "never         0\n",
       "rarely        0\n",
       "sometimes     0\n",
       "frequently    0\n",
       "always        0\n",
       "name          0\n",
       "state         0\n",
       "dtype: int64"
      ]
     },
     "execution_count": 25,
     "metadata": {},
     "output_type": "execute_result"
    }
   ],
   "source": [
    "states = ['WA','CA','OR']\n",
    "\n",
    "mask_CA_WA_OR= mask_data[mask_data.state.isin(states)] \n",
    "  \n",
    "mask_CA_WA_OR #dataframe that only include CA,WA,and OR\n",
    "\n",
    "mask_CA_WA_OR.isnull().sum() #Make sure there are no NAs in the mask_CA_WA_OR dataframe#\n",
    "\n"
   ]
  },
  {
   "cell_type": "markdown",
   "metadata": {},
   "source": [
    "Next, we need to calculate a composite mask score for each county:\n",
    "\n",
    "score= (%NEVER0) + (%RARELY1) + (%SOMETIMES2) + (%FREQUENTLY3) + (%ALWAYS*4)\n"
   ]
  },
  {
   "cell_type": "code",
   "execution_count": 26,
   "metadata": {},
   "outputs": [
    {
     "name": "stderr",
     "output_type": "stream",
     "text": [
      "<ipython-input-26-d74f51d8eb19>:1: SettingWithCopyWarning: \n",
      "A value is trying to be set on a copy of a slice from a DataFrame.\n",
      "Try using .loc[row_indexer,col_indexer] = value instead\n",
      "\n",
      "See the caveats in the documentation: https://pandas.pydata.org/pandas-docs/stable/user_guide/indexing.html#returning-a-view-versus-a-copy\n",
      "  mask_CA_WA_OR['mask_score'] = mask_CA_WA_OR['never']*0 + mask_CA_WA_OR['rarely']*1 + mask_CA_WA_OR['sometimes']*2 + mask_CA_WA_OR['frequently']*3+ mask_CA_WA_OR['always']*4\n"
     ]
    },
    {
     "data": {
      "text/plain": [
       "186     3.667\n",
       "187     3.279\n",
       "188     3.395\n",
       "189     3.381\n",
       "190     3.291\n",
       "        ...  \n",
       "2987    3.330\n",
       "2988    3.287\n",
       "2989    3.504\n",
       "2990    3.553\n",
       "2991    3.562\n",
       "Name: mask_score, Length: 133, dtype: float64"
      ]
     },
     "execution_count": 26,
     "metadata": {},
     "output_type": "execute_result"
    }
   ],
   "source": [
    "\n",
    "mask_CA_WA_OR['mask_score'] = mask_CA_WA_OR['never']*0 + mask_CA_WA_OR['rarely']*1 + mask_CA_WA_OR['sometimes']*2 + mask_CA_WA_OR['frequently']*3+ mask_CA_WA_OR['always']*4\n",
    "\n",
    "mask_CA_WA_OR.mask_score #view mask_score variable\n"
   ]
  },
  {
   "cell_type": "markdown",
   "metadata": {},
   "source": [
    "Prepare the dataset to be merged with group members (e.g., make sure the variable names are the same and are formatted correctly: \n"
   ]
  },
  {
   "cell_type": "markdown",
   "metadata": {},
   "source": [
    "(1) rename 'county' and 'state' to 'County' and 'State'"
   ]
  },
  {
   "cell_type": "code",
   "execution_count": 27,
   "metadata": {},
   "outputs": [
    {
     "data": {
      "text/plain": [
       "Index(['countyfp', 'never', 'rarely', 'sometimes', 'frequently', 'always',\n",
       "       'County', 'State', 'mask_score'],\n",
       "      dtype='object')"
      ]
     },
     "execution_count": 27,
     "metadata": {},
     "output_type": "execute_result"
    }
   ],
   "source": [
    "\n",
    "mask_CA_WA_OR.columns = ['countyfp', 'never','rarely','sometimes','frequently','always', 'County','State','mask_score']\n",
    "\n",
    "mask_CA_WA_OR.columns\n"
   ]
  },
  {
   "cell_type": "markdown",
   "metadata": {},
   "source": [
    "(2) The variable 'County' currently includes \"Name of county\" + \"county\". We want to remove \"county\" and trailing spaces so that this varibale only includes the name of the county. \n",
    "\n",
    "Example: \"Alameda County\" == \"Alameda\""
   ]
  },
  {
   "cell_type": "code",
   "execution_count": 28,
   "metadata": {},
   "outputs": [
    {
     "name": "stderr",
     "output_type": "stream",
     "text": [
      "<ipython-input-28-1cac62b79fda>:1: SettingWithCopyWarning: \n",
      "A value is trying to be set on a copy of a slice from a DataFrame.\n",
      "Try using .loc[row_indexer,col_indexer] = value instead\n",
      "\n",
      "See the caveats in the documentation: https://pandas.pydata.org/pandas-docs/stable/user_guide/indexing.html#returning-a-view-versus-a-copy\n",
      "  mask_CA_WA_OR['County'] = mask_CA_WA_OR['County'].str.replace(' County', '')\n"
     ]
    }
   ],
   "source": [
    "mask_CA_WA_OR['County'] = mask_CA_WA_OR['County'].str.replace(' County', '')"
   ]
  },
  {
   "cell_type": "markdown",
   "metadata": {},
   "source": [
    "We don't need the fip code variable ('countyfp') so we can remove this variable:"
   ]
  },
  {
   "cell_type": "code",
   "execution_count": 29,
   "metadata": {},
   "outputs": [
    {
     "data": {
      "text/html": [
       "<div>\n",
       "<style scoped>\n",
       "    .dataframe tbody tr th:only-of-type {\n",
       "        vertical-align: middle;\n",
       "    }\n",
       "\n",
       "    .dataframe tbody tr th {\n",
       "        vertical-align: top;\n",
       "    }\n",
       "\n",
       "    .dataframe thead th {\n",
       "        text-align: right;\n",
       "    }\n",
       "</style>\n",
       "<table border=\"1\" class=\"dataframe\">\n",
       "  <thead>\n",
       "    <tr style=\"text-align: right;\">\n",
       "      <th></th>\n",
       "      <th>never</th>\n",
       "      <th>rarely</th>\n",
       "      <th>sometimes</th>\n",
       "      <th>frequently</th>\n",
       "      <th>always</th>\n",
       "      <th>County</th>\n",
       "      <th>State</th>\n",
       "      <th>mask_score</th>\n",
       "    </tr>\n",
       "  </thead>\n",
       "  <tbody>\n",
       "    <tr>\n",
       "      <th>186</th>\n",
       "      <td>0.019</td>\n",
       "      <td>0.008</td>\n",
       "      <td>0.055</td>\n",
       "      <td>0.123</td>\n",
       "      <td>0.795</td>\n",
       "      <td>Alameda</td>\n",
       "      <td>CA</td>\n",
       "      <td>3.667</td>\n",
       "    </tr>\n",
       "    <tr>\n",
       "      <th>187</th>\n",
       "      <td>0.025</td>\n",
       "      <td>0.085</td>\n",
       "      <td>0.088</td>\n",
       "      <td>0.190</td>\n",
       "      <td>0.612</td>\n",
       "      <td>Alpine</td>\n",
       "      <td>CA</td>\n",
       "      <td>3.279</td>\n",
       "    </tr>\n",
       "    <tr>\n",
       "      <th>188</th>\n",
       "      <td>0.045</td>\n",
       "      <td>0.013</td>\n",
       "      <td>0.099</td>\n",
       "      <td>0.188</td>\n",
       "      <td>0.655</td>\n",
       "      <td>Amador</td>\n",
       "      <td>CA</td>\n",
       "      <td>3.395</td>\n",
       "    </tr>\n",
       "    <tr>\n",
       "      <th>189</th>\n",
       "      <td>0.015</td>\n",
       "      <td>0.043</td>\n",
       "      <td>0.111</td>\n",
       "      <td>0.204</td>\n",
       "      <td>0.626</td>\n",
       "      <td>Butte</td>\n",
       "      <td>CA</td>\n",
       "      <td>3.381</td>\n",
       "    </tr>\n",
       "    <tr>\n",
       "      <th>190</th>\n",
       "      <td>0.045</td>\n",
       "      <td>0.019</td>\n",
       "      <td>0.098</td>\n",
       "      <td>0.276</td>\n",
       "      <td>0.562</td>\n",
       "      <td>Calaveras</td>\n",
       "      <td>CA</td>\n",
       "      <td>3.291</td>\n",
       "    </tr>\n",
       "    <tr>\n",
       "      <th>...</th>\n",
       "      <td>...</td>\n",
       "      <td>...</td>\n",
       "      <td>...</td>\n",
       "      <td>...</td>\n",
       "      <td>...</td>\n",
       "      <td>...</td>\n",
       "      <td>...</td>\n",
       "      <td>...</td>\n",
       "    </tr>\n",
       "    <tr>\n",
       "      <th>2987</th>\n",
       "      <td>0.045</td>\n",
       "      <td>0.057</td>\n",
       "      <td>0.079</td>\n",
       "      <td>0.161</td>\n",
       "      <td>0.658</td>\n",
       "      <td>Wahkiakum</td>\n",
       "      <td>WA</td>\n",
       "      <td>3.330</td>\n",
       "    </tr>\n",
       "    <tr>\n",
       "      <th>2988</th>\n",
       "      <td>0.083</td>\n",
       "      <td>0.022</td>\n",
       "      <td>0.061</td>\n",
       "      <td>0.193</td>\n",
       "      <td>0.641</td>\n",
       "      <td>Walla Walla</td>\n",
       "      <td>WA</td>\n",
       "      <td>3.287</td>\n",
       "    </tr>\n",
       "    <tr>\n",
       "      <th>2989</th>\n",
       "      <td>0.042</td>\n",
       "      <td>0.028</td>\n",
       "      <td>0.061</td>\n",
       "      <td>0.122</td>\n",
       "      <td>0.747</td>\n",
       "      <td>Whatcom</td>\n",
       "      <td>WA</td>\n",
       "      <td>3.504</td>\n",
       "    </tr>\n",
       "    <tr>\n",
       "      <th>2990</th>\n",
       "      <td>0.002</td>\n",
       "      <td>0.009</td>\n",
       "      <td>0.049</td>\n",
       "      <td>0.310</td>\n",
       "      <td>0.629</td>\n",
       "      <td>Whitman</td>\n",
       "      <td>WA</td>\n",
       "      <td>3.553</td>\n",
       "    </tr>\n",
       "    <tr>\n",
       "      <th>2991</th>\n",
       "      <td>0.012</td>\n",
       "      <td>0.035</td>\n",
       "      <td>0.069</td>\n",
       "      <td>0.143</td>\n",
       "      <td>0.740</td>\n",
       "      <td>Yakima</td>\n",
       "      <td>WA</td>\n",
       "      <td>3.562</td>\n",
       "    </tr>\n",
       "  </tbody>\n",
       "</table>\n",
       "<p>133 rows × 8 columns</p>\n",
       "</div>"
      ],
      "text/plain": [
       "      never  rarely  sometimes  frequently  always       County State  \\\n",
       "186   0.019   0.008      0.055       0.123   0.795      Alameda    CA   \n",
       "187   0.025   0.085      0.088       0.190   0.612       Alpine    CA   \n",
       "188   0.045   0.013      0.099       0.188   0.655       Amador    CA   \n",
       "189   0.015   0.043      0.111       0.204   0.626        Butte    CA   \n",
       "190   0.045   0.019      0.098       0.276   0.562    Calaveras    CA   \n",
       "...     ...     ...        ...         ...     ...          ...   ...   \n",
       "2987  0.045   0.057      0.079       0.161   0.658    Wahkiakum    WA   \n",
       "2988  0.083   0.022      0.061       0.193   0.641  Walla Walla    WA   \n",
       "2989  0.042   0.028      0.061       0.122   0.747      Whatcom    WA   \n",
       "2990  0.002   0.009      0.049       0.310   0.629      Whitman    WA   \n",
       "2991  0.012   0.035      0.069       0.143   0.740       Yakima    WA   \n",
       "\n",
       "      mask_score  \n",
       "186        3.667  \n",
       "187        3.279  \n",
       "188        3.395  \n",
       "189        3.381  \n",
       "190        3.291  \n",
       "...          ...  \n",
       "2987       3.330  \n",
       "2988       3.287  \n",
       "2989       3.504  \n",
       "2990       3.553  \n",
       "2991       3.562  \n",
       "\n",
       "[133 rows x 8 columns]"
      ]
     },
     "execution_count": 29,
     "metadata": {},
     "output_type": "execute_result"
    }
   ],
   "source": [
    "del mask_CA_WA_OR['countyfp']\n",
    "\n",
    "mask_CA_WA_OR #view data\n"
   ]
  },
  {
   "cell_type": "markdown",
   "metadata": {},
   "source": [
    "There are some duplicate county names ((e.g., there is county 'x' in state 'z' and state 'y'). This will cause an error when we conduct the clustering analyses. To address this problem, we will create a 'Location' variable and concatenate the 'County' and 'State' variable"
   ]
  },
  {
   "cell_type": "code",
   "execution_count": 33,
   "metadata": {},
   "outputs": [
    {
     "name": "stderr",
     "output_type": "stream",
     "text": [
      "<ipython-input-33-8292d3cb41a5>:1: SettingWithCopyWarning: \n",
      "A value is trying to be set on a copy of a slice from a DataFrame.\n",
      "Try using .loc[row_indexer,col_indexer] = value instead\n",
      "\n",
      "See the caveats in the documentation: https://pandas.pydata.org/pandas-docs/stable/user_guide/indexing.html#returning-a-view-versus-a-copy\n",
      "  mask_CA_WA_OR['Location']= mask_CA_WA_OR['County'] +\"_\"+mask_CA_WA_OR['State']\n"
     ]
    },
    {
     "data": {
      "text/plain": [
       "186         Alameda_CA\n",
       "187          Alpine_CA\n",
       "188          Amador_CA\n",
       "189           Butte_CA\n",
       "190       Calaveras_CA\n",
       "             ...      \n",
       "2987      Wahkiakum_WA\n",
       "2988    Walla Walla_WA\n",
       "2989        Whatcom_WA\n",
       "2990        Whitman_WA\n",
       "2991         Yakima_WA\n",
       "Name: Location, Length: 133, dtype: object"
      ]
     },
     "execution_count": 33,
     "metadata": {},
     "output_type": "execute_result"
    }
   ],
   "source": [
    "mask_CA_WA_OR['Location']= mask_CA_WA_OR['County'] +\"_\"+mask_CA_WA_OR['State']\n",
    "\n",
    "mask_CA_WA_OR.Location#view variable\n"
   ]
  },
  {
   "cell_type": "markdown",
   "metadata": {},
   "source": [
    "Remove 'State' and 'County' variables:"
   ]
  },
  {
   "cell_type": "code",
   "execution_count": 35,
   "metadata": {},
   "outputs": [],
   "source": [
    "del mask_CA_WA_OR['State']\n",
    "del mask_CA_WA_OR['County']"
   ]
  },
  {
   "cell_type": "code",
   "execution_count": 36,
   "metadata": {},
   "outputs": [
    {
     "data": {
      "text/html": [
       "<div>\n",
       "<style scoped>\n",
       "    .dataframe tbody tr th:only-of-type {\n",
       "        vertical-align: middle;\n",
       "    }\n",
       "\n",
       "    .dataframe tbody tr th {\n",
       "        vertical-align: top;\n",
       "    }\n",
       "\n",
       "    .dataframe thead th {\n",
       "        text-align: right;\n",
       "    }\n",
       "</style>\n",
       "<table border=\"1\" class=\"dataframe\">\n",
       "  <thead>\n",
       "    <tr style=\"text-align: right;\">\n",
       "      <th></th>\n",
       "      <th>never</th>\n",
       "      <th>rarely</th>\n",
       "      <th>sometimes</th>\n",
       "      <th>frequently</th>\n",
       "      <th>always</th>\n",
       "      <th>mask_score</th>\n",
       "      <th>Location</th>\n",
       "    </tr>\n",
       "  </thead>\n",
       "  <tbody>\n",
       "    <tr>\n",
       "      <th>186</th>\n",
       "      <td>0.019</td>\n",
       "      <td>0.008</td>\n",
       "      <td>0.055</td>\n",
       "      <td>0.123</td>\n",
       "      <td>0.795</td>\n",
       "      <td>3.667</td>\n",
       "      <td>Alameda_CA</td>\n",
       "    </tr>\n",
       "    <tr>\n",
       "      <th>187</th>\n",
       "      <td>0.025</td>\n",
       "      <td>0.085</td>\n",
       "      <td>0.088</td>\n",
       "      <td>0.190</td>\n",
       "      <td>0.612</td>\n",
       "      <td>3.279</td>\n",
       "      <td>Alpine_CA</td>\n",
       "    </tr>\n",
       "    <tr>\n",
       "      <th>188</th>\n",
       "      <td>0.045</td>\n",
       "      <td>0.013</td>\n",
       "      <td>0.099</td>\n",
       "      <td>0.188</td>\n",
       "      <td>0.655</td>\n",
       "      <td>3.395</td>\n",
       "      <td>Amador_CA</td>\n",
       "    </tr>\n",
       "    <tr>\n",
       "      <th>189</th>\n",
       "      <td>0.015</td>\n",
       "      <td>0.043</td>\n",
       "      <td>0.111</td>\n",
       "      <td>0.204</td>\n",
       "      <td>0.626</td>\n",
       "      <td>3.381</td>\n",
       "      <td>Butte_CA</td>\n",
       "    </tr>\n",
       "    <tr>\n",
       "      <th>190</th>\n",
       "      <td>0.045</td>\n",
       "      <td>0.019</td>\n",
       "      <td>0.098</td>\n",
       "      <td>0.276</td>\n",
       "      <td>0.562</td>\n",
       "      <td>3.291</td>\n",
       "      <td>Calaveras_CA</td>\n",
       "    </tr>\n",
       "    <tr>\n",
       "      <th>...</th>\n",
       "      <td>...</td>\n",
       "      <td>...</td>\n",
       "      <td>...</td>\n",
       "      <td>...</td>\n",
       "      <td>...</td>\n",
       "      <td>...</td>\n",
       "      <td>...</td>\n",
       "    </tr>\n",
       "    <tr>\n",
       "      <th>2987</th>\n",
       "      <td>0.045</td>\n",
       "      <td>0.057</td>\n",
       "      <td>0.079</td>\n",
       "      <td>0.161</td>\n",
       "      <td>0.658</td>\n",
       "      <td>3.330</td>\n",
       "      <td>Wahkiakum_WA</td>\n",
       "    </tr>\n",
       "    <tr>\n",
       "      <th>2988</th>\n",
       "      <td>0.083</td>\n",
       "      <td>0.022</td>\n",
       "      <td>0.061</td>\n",
       "      <td>0.193</td>\n",
       "      <td>0.641</td>\n",
       "      <td>3.287</td>\n",
       "      <td>Walla Walla_WA</td>\n",
       "    </tr>\n",
       "    <tr>\n",
       "      <th>2989</th>\n",
       "      <td>0.042</td>\n",
       "      <td>0.028</td>\n",
       "      <td>0.061</td>\n",
       "      <td>0.122</td>\n",
       "      <td>0.747</td>\n",
       "      <td>3.504</td>\n",
       "      <td>Whatcom_WA</td>\n",
       "    </tr>\n",
       "    <tr>\n",
       "      <th>2990</th>\n",
       "      <td>0.002</td>\n",
       "      <td>0.009</td>\n",
       "      <td>0.049</td>\n",
       "      <td>0.310</td>\n",
       "      <td>0.629</td>\n",
       "      <td>3.553</td>\n",
       "      <td>Whitman_WA</td>\n",
       "    </tr>\n",
       "    <tr>\n",
       "      <th>2991</th>\n",
       "      <td>0.012</td>\n",
       "      <td>0.035</td>\n",
       "      <td>0.069</td>\n",
       "      <td>0.143</td>\n",
       "      <td>0.740</td>\n",
       "      <td>3.562</td>\n",
       "      <td>Yakima_WA</td>\n",
       "    </tr>\n",
       "  </tbody>\n",
       "</table>\n",
       "<p>133 rows × 7 columns</p>\n",
       "</div>"
      ],
      "text/plain": [
       "      never  rarely  sometimes  frequently  always  mask_score        Location\n",
       "186   0.019   0.008      0.055       0.123   0.795       3.667      Alameda_CA\n",
       "187   0.025   0.085      0.088       0.190   0.612       3.279       Alpine_CA\n",
       "188   0.045   0.013      0.099       0.188   0.655       3.395       Amador_CA\n",
       "189   0.015   0.043      0.111       0.204   0.626       3.381        Butte_CA\n",
       "190   0.045   0.019      0.098       0.276   0.562       3.291    Calaveras_CA\n",
       "...     ...     ...        ...         ...     ...         ...             ...\n",
       "2987  0.045   0.057      0.079       0.161   0.658       3.330    Wahkiakum_WA\n",
       "2988  0.083   0.022      0.061       0.193   0.641       3.287  Walla Walla_WA\n",
       "2989  0.042   0.028      0.061       0.122   0.747       3.504      Whatcom_WA\n",
       "2990  0.002   0.009      0.049       0.310   0.629       3.553      Whitman_WA\n",
       "2991  0.012   0.035      0.069       0.143   0.740       3.562       Yakima_WA\n",
       "\n",
       "[133 rows x 7 columns]"
      ]
     },
     "execution_count": 36,
     "metadata": {},
     "output_type": "execute_result"
    }
   ],
   "source": [
    "mask_CA_WA_OR #view dataframe"
   ]
  },
  {
   "cell_type": "code",
   "execution_count": 37,
   "metadata": {},
   "outputs": [],
   "source": [
    "#export to .csv#\n",
    "mask_CA_WA_OR.to_csv('bryn.bl.clean.data.csv',index=False)\n"
   ]
  },
  {
   "cell_type": "code",
   "execution_count": null,
   "metadata": {},
   "outputs": [],
   "source": []
  }
 ],
 "metadata": {
  "kernelspec": {
   "display_name": "Python 3",
   "language": "python",
   "name": "python3"
  },
  "language_info": {
   "codemirror_mode": {
    "name": "ipython",
    "version": 3
   },
   "file_extension": ".py",
   "mimetype": "text/x-python",
   "name": "python",
   "nbconvert_exporter": "python",
   "pygments_lexer": "ipython3",
   "version": "3.8.5"
  }
 },
 "nbformat": 4,
 "nbformat_minor": 4
}
